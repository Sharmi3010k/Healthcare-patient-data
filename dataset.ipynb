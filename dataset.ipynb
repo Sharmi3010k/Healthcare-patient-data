{
  "nbformat": 4,
  "nbformat_minor": 0,
  "metadata": {
    "colab": {
      "provenance": [],
      "authorship_tag": "ABX9TyMt3BUDaX5kBh1f3zT485/S",
      "include_colab_link": true
    },
    "kernelspec": {
      "name": "python3",
      "display_name": "Python 3"
    },
    "language_info": {
      "name": "python"
    }
  },
  "cells": [
    {
      "cell_type": "markdown",
      "metadata": {
        "id": "view-in-github",
        "colab_type": "text"
      },
      "source": [
        "<a href=\"https://colab.research.google.com/github/Sharmi3010k/Healthcare-patient-data/blob/main/dataset.ipynb\" target=\"_parent\"><img src=\"https://colab.research.google.com/assets/colab-badge.svg\" alt=\"Open In Colab\"/></a>"
      ]
    },
    {
      "cell_type": "markdown",
      "source": [
        "This line imports the pandas library, which is used in Python to work with data — like tables or spreadsheets:"
      ],
      "metadata": {
        "id": "sNNb9i3uGDqT"
      }
    },
    {
      "cell_type": "code",
      "source": [
        "import pandas as pd"
      ],
      "metadata": {
        "id": "fkjqSOqcGHNL"
      },
      "execution_count": 1,
      "outputs": []
    },
    {
      "cell_type": "markdown",
      "source": [
        "This line creates a simple table (called a DataFrame) with columns,This is just sample data. You can change it to your own data later:"
      ],
      "metadata": {
        "id": "MyGS-_ImGNgy"
      }
    },
    {
      "cell_type": "code",
      "source": [
        "import pandas as pd\n",
        "import random\n",
        "import numpy as np\n",
        "\n",
        "# Number of records to generate\n",
        "num_records = 200\n",
        "\n",
        "# Arrays with possible values\n",
        "genders = ['Male', 'Female', 'Other']\n",
        "ever_married_status = ['Yes', 'No']\n",
        "work_types = ['Private', 'Self-employed', 'Govt job', 'children', 'Never_worked']\n",
        "residence_types = [\"Urban\", \"Rural\"]\n",
        "smoking_statuses = ['never smoked', 'formerly smoked', 'smokes', 'Unknown']\n",
        "\n",
        "# Initialize empty lists for each column\n",
        "ids = []\n",
        "genders_list = []\n",
        "ages_list = []\n",
        "hypertension_list = []\n",
        "heart_disease_list = []\n",
        "ever_married_list = []\n",
        "work_type_list = []\n",
        "residence_type_list = []\n",
        "avg_glucose_level_list = []\n",
        "bmi_list = []\n",
        "smoking_status_list = []\n",
        "stroke_list = []\n",
        "\n",
        "# Generate synthetic data\n",
        "for i in range(num_records):\n",
        "    ids.append(10001 + i)\n",
        "    genders_list.append(random.choice(genders))\n",
        "    ages_list.append(random.randint(18, 90))  # added age column\n",
        "    hypertension = random.randint(0, 1)\n",
        "    hypertension_list.append(hypertension)\n",
        "    heart_disease = random.randint(0, 1)  # fix range to 0–1\n",
        "    heart_disease_list.append(heart_disease)\n",
        "    ever_married_list.append(random.choice(ever_married_status))\n",
        "    work_type_list.append(random.choice(work_types))\n",
        "    residence_type_list.append(random.choice(residence_types))\n",
        "    avg_glucose_level_list.append(round(random.uniform(70.0, 250.0), 2))\n",
        "    bmi_list.append(round(random.uniform(18.5, 40.0), 1))\n",
        "    smoking_status_list.append(random.choice(smoking_statuses))\n",
        "\n",
        "    # Stroke logic: simple risk simulation\n",
        "    stroke_risk = hypertension + heart_disease\n",
        "    stroke_chance = random.random()\n",
        "    if stroke_risk >= 2 and stroke_chance > 0.3:\n",
        "        stroke = 1\n",
        "    elif stroke_risk >= 1 and stroke_chance > 0.7:\n",
        "        stroke = 1\n",
        "    else:\n",
        "        stroke = 0\n",
        "    stroke_list.append(stroke)\n",
        "\n",
        "# Combine into a DataFrame\n",
        "data = {\n",
        "    'id': ids,\n",
        "    'gender': genders_list,\n",
        "    'age': ages_list,\n",
        "    'hypertension': hypertension_list,\n",
        "    'heart disease': heart_disease_list,\n",
        "    'ever married': ever_married_list,\n",
        "    'work type': work_type_list,\n",
        "    'residence type': residence_type_list,\n",
        "    'avg_glucose_level': avg_glucose_level_list,\n",
        "    'bmi': bmi_list,\n",
        "    'smoking_status': smoking_status_list,\n",
        "    'stroke': stroke_list\n",
        "}\n",
        "\n",
        "df = pd.DataFrame(data)\n",
        "\n",
        "# Show the first few rows\n",
        "print(df.head())\n",
        "\n",
        "# Save to Excel\n",
        "df.to_excel(\"dataset2.xlsx\", index=False)\n",
        "\n",
        "# Download file in Google Colab\n",
        "from google.colab import files\n",
        "files.download(\"dataset2.xlsx\")\n"
      ],
      "metadata": {
        "colab": {
          "base_uri": "https://localhost:8080/",
          "height": 364
        },
        "id": "e4F5ZDuDc1k9",
        "outputId": "1f97cd26-a5a0-4e67-fd31-89cd9fae17e5"
      },
      "execution_count": 11,
      "outputs": [
        {
          "output_type": "stream",
          "name": "stdout",
          "text": [
            "      id  gender  age  hypertension  heart disease ever married  \\\n",
            "0  10001   Other   40             1              1           No   \n",
            "1  10002  Female   48             1              1          Yes   \n",
            "2  10003    Male   54             0              1           No   \n",
            "3  10004    Male   37             0              1          Yes   \n",
            "4  10005  Female   43             1              1           No   \n",
            "\n",
            "       work type residence type  avg_glucose_level   bmi   smoking_status  \\\n",
            "0        Private          Urban             204.80  33.0           smokes   \n",
            "1       children          Rural             123.46  36.4          Unknown   \n",
            "2   Never_worked          Rural             227.77  31.6           smokes   \n",
            "3       Govt job          Urban             108.52  38.8           smokes   \n",
            "4  Self-employed          Urban             167.49  28.6  formerly smoked   \n",
            "\n",
            "   stroke  \n",
            "0       0  \n",
            "1       1  \n",
            "2       1  \n",
            "3       1  \n",
            "4       1  \n"
          ]
        },
        {
          "output_type": "display_data",
          "data": {
            "text/plain": [
              "<IPython.core.display.Javascript object>"
            ],
            "application/javascript": [
              "\n",
              "    async function download(id, filename, size) {\n",
              "      if (!google.colab.kernel.accessAllowed) {\n",
              "        return;\n",
              "      }\n",
              "      const div = document.createElement('div');\n",
              "      const label = document.createElement('label');\n",
              "      label.textContent = `Downloading \"${filename}\": `;\n",
              "      div.appendChild(label);\n",
              "      const progress = document.createElement('progress');\n",
              "      progress.max = size;\n",
              "      div.appendChild(progress);\n",
              "      document.body.appendChild(div);\n",
              "\n",
              "      const buffers = [];\n",
              "      let downloaded = 0;\n",
              "\n",
              "      const channel = await google.colab.kernel.comms.open(id);\n",
              "      // Send a message to notify the kernel that we're ready.\n",
              "      channel.send({})\n",
              "\n",
              "      for await (const message of channel.messages) {\n",
              "        // Send a message to notify the kernel that we're ready.\n",
              "        channel.send({})\n",
              "        if (message.buffers) {\n",
              "          for (const buffer of message.buffers) {\n",
              "            buffers.push(buffer);\n",
              "            downloaded += buffer.byteLength;\n",
              "            progress.value = downloaded;\n",
              "          }\n",
              "        }\n",
              "      }\n",
              "      const blob = new Blob(buffers, {type: 'application/binary'});\n",
              "      const a = document.createElement('a');\n",
              "      a.href = window.URL.createObjectURL(blob);\n",
              "      a.download = filename;\n",
              "      div.appendChild(a);\n",
              "      a.click();\n",
              "      div.remove();\n",
              "    }\n",
              "  "
            ]
          },
          "metadata": {}
        },
        {
          "output_type": "display_data",
          "data": {
            "text/plain": [
              "<IPython.core.display.Javascript object>"
            ],
            "application/javascript": [
              "download(\"download_95891eaa-ed21-4267-94d9-5306129636d8\", \"dataset2.xlsx\", 16348)"
            ]
          },
          "metadata": {}
        }
      ]
    }
  ]
}