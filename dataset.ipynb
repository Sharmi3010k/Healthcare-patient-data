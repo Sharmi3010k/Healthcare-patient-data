{
  "nbformat": 4,
  "nbformat_minor": 0,
  "metadata": {
    "colab": {
      "provenance": [],
      "authorship_tag": "ABX9TyPm/V8BnykZ1CsMssWFdLiy",
      "include_colab_link": true
    },
    "kernelspec": {
      "name": "python3",
      "display_name": "Python 3"
    },
    "language_info": {
      "name": "python"
    }
  },
  "cells": [
    {
      "cell_type": "markdown",
      "metadata": {
        "id": "view-in-github",
        "colab_type": "text"
      },
      "source": [
        "<a href=\"https://colab.research.google.com/github/Sharmi3010k/Healthcare-patient-data/blob/main/dataset.ipynb\" target=\"_parent\"><img src=\"https://colab.research.google.com/assets/colab-badge.svg\" alt=\"Open In Colab\"/></a>"
      ]
    },
    {
      "cell_type": "markdown",
      "source": [
        "Install required libraries:"
      ],
      "metadata": {
        "id": "fEMUcghvRZmP"
      }
    },
    {
      "cell_type": "code",
      "source": [
        "pip install pandas numpy scikit-learn matplotlib seaborn\n",
        "\n"
      ],
      "metadata": {
        "id": "ABDQ_MkeRu3H"
      },
      "execution_count": null,
      "outputs": []
    },
    {
      "cell_type": "markdown",
      "source": [
        "AI-Powered Disease Prediction from Patient Data:"
      ],
      "metadata": {
        "id": "90xJmlVfSTeP"
      }
    },
    {
      "cell_type": "code",
      "source": [
        "# AI-Powered Disease Prediction from Patient Data\n",
        "\n",
        "import pandas as pd\n",
        "import numpy as np\n",
        "import matplotlib.pyplot as plt\n",
        "import seaborn as sns\n",
        "\n",
        "from sklearn.model_selection import train_test_split\n",
        "from sklearn.preprocessing import StandardScaler\n",
        "from sklearn.ensemble import RandomForestClassifier\n",
        "from sklearn.metrics import classification_report, confusion_matrix, accuracy_score\n",
        "\n",
        "# Step 1: Load Dataset\n",
        "# Example: UCI Heart Disease Dataset (you can replace this with your own dataset)\n",
        "url = \"https://raw.githubusercontent.com/ybifoundation/Dataset/main/Heart%20Disease.csv\"\n",
        "df = pd.read_csv(url)\n",
        "\n",
        "# Step 2: Explore Data\n",
        "print(\"Data Preview:\\n\", df.head())\n",
        "print(\"\\nMissing Values:\\n\", df.isnull().sum())\n",
        "\n",
        "# Step 3: Define Features and Labels\n",
        "X = df.drop(['target'], axis=1)\n",
        "y = df['target']\n",
        "\n",
        "# Step 4: Split Data into Training and Testing\n",
        "X_train, X_test, y_train, y_test = train_test_split(X, y, test_size=0.2, random_state=42)\n",
        "\n",
        "# Step 5: Normalize Feature Data\n",
        "scaler = StandardScaler()\n",
        "X_train = scaler.fit_transform(X_train)\n",
        "X_test = scaler.transform(X_test)\n",
        "\n",
        "# Step 6: Train AI Model\n",
        "model = RandomForestClassifier(n_estimators=100, random_state=42)\n",
        "model.fit(X_train, y_train)\n",
        "\n",
        "# Step 7: Make Predictions\n",
        "y_pred = model.predict(X_test)\n",
        "\n",
        "# Step 8: Evaluate the Model\n",
        "print(\"\\nAccuracy:\", accuracy_score(y_test, y_pred))\n",
        "print(\"\\nClassification Report:\\n\", classification_report(y_test, y_pred))\n",
        "print(\"\\nConfusion Matrix:\\n\", confusion_matrix(y_test, y_pred))\n",
        "\n",
        "# Step 9: Predict on New Patient Data\n",
        "# Example new patient input (same format as training features)\n",
        "new_patient = pd.DataFrame([{\n",
        "    'age': 54,\n",
        "    'sex': 1,\n",
        "    'cp': 0,\n",
        "    'trestbps': 140,\n",
        "    'chol': 239,\n",
        "    'fbs': 0,\n",
        "    'restecg': 1,\n",
        "    'thalach': 160,\n",
        "    'exang': 0,\n",
        "    'oldpeak': 1.2,\n",
        "    'slope': 2,\n",
        "    'ca': 0,\n",
        "    'thal': 2\n",
        "}])\n",
        "\n",
        "new_patient_scaled = scaler.transform(new_patient)\n",
        "prediction = model.predict(new_patient_scaled)\n",
        "print(\"\\nPredicted Heart Disease Status (1=Yes, 0=No):\", prediction[0])\n"
      ],
      "metadata": {
        "id": "wecmiRnvSaA3"
      },
      "execution_count": null,
      "outputs": []
    }
  ]
}